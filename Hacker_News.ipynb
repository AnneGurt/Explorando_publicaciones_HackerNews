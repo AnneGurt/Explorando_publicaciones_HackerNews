{
 "cells": [
  {
   "cell_type": "markdown",
   "id": "8739cd60-c81f-4c38-b667-9c199c509013",
   "metadata": {},
   "source": [
    "# Análisis de publicaciones en Hacker News\n",
    "\n",
    "Hacker News es un sitio web, similar a Reddit, donde los usuarios suben publicaciones y se recibe votos y comentarios.\n",
    "\n",
    "En este proyecto, compararé dos tipos diferentes de publicaciones en Hacker News.\n",
    "\n",
    "Nos interesan las publicaciones que empiezan por **\"Ask HN\"**, publicaciones en las que el usuario pregunta a la comunidad de Hacker News sobre algún tema específico, y **\"Show HN\"** en la que los usuarios enseñan algún proyecto, producto o tema de relevancia.\n",
    "\n",
    "Compararemos estos dos tipos de publicaciones para determinar lo siguiente:\n",
    "* ¿Cuál de los dos tipos de publicaciones rebibe en promedio más comentarios?\n",
    "* ¿De media, reciben más comentarios las publicaciones creadas en un momento determinado?\n",
    "\n",
    "El conjunto de datos con el que trabajaremos se redujo de 300.000 filas iniciales a 20.000 eliminando todas aquellas filas que se correspondian a publicaciones que no recibieron comentarios."
   ]
  },
  {
   "cell_type": "markdown",
   "id": "488445ea-b731-40f3-9141-7d9a2502c8e7",
   "metadata": {},
   "source": [
    "# Introducción\n",
    "Empezamos importando los datos y separando el encabezado para trabajar comodamente."
   ]
  },
  {
   "cell_type": "code",
   "execution_count": 4,
   "id": "9d610375-4382-4a2b-91d1-e6bc655dbb54",
   "metadata": {},
   "outputs": [
    {
     "data": {
      "text/plain": [
       "[['id', 'title', 'url', 'num_points', 'num_comments', 'author', 'created_at'],\n",
       " ['12224879',\n",
       "  'Interactive Dynamic Video',\n",
       "  'http://www.interactivedynamicvideo.com/',\n",
       "  '386',\n",
       "  '52',\n",
       "  'ne0phyte',\n",
       "  '8/4/2016 11:52'],\n",
       " ['10975351',\n",
       "  'How to Use Open Source and Shut the Fuck Up at the Same Time',\n",
       "  'http://hueniverse.com/2016/01/26/how-to-use-open-source-and-shut-the-fuck-up-at-the-same-time/',\n",
       "  '39',\n",
       "  '10',\n",
       "  'josep2',\n",
       "  '1/26/2016 19:30'],\n",
       " ['11964716',\n",
       "  \"Florida DJs May Face Felony for April Fools' Water Joke\",\n",
       "  'http://www.thewire.com/entertainment/2013/04/florida-djs-april-fools-water-joke/63798/',\n",
       "  '2',\n",
       "  '1',\n",
       "  'vezycash',\n",
       "  '6/23/2016 22:20'],\n",
       " ['11919867',\n",
       "  'Technology ventures: From Idea to Enterprise',\n",
       "  'https://www.amazon.com/Technology-Ventures-Enterprise-Thomas-Byers/dp/0073523429',\n",
       "  '3',\n",
       "  '1',\n",
       "  'hswarna',\n",
       "  '6/17/2016 0:01']]"
      ]
     },
     "execution_count": 4,
     "metadata": {},
     "output_type": "execute_result"
    }
   ],
   "source": [
    "import csv\n",
    "\n",
    "with open('hacker_news.csv') as opened_file:\n",
    "    hn = list(csv.reader(opened_file))\n",
    "hn[:5]"
   ]
  },
  {
   "cell_type": "code",
   "execution_count": 5,
   "id": "a01fb1f0-3a47-43d7-9b39-ae23c80897b1",
   "metadata": {},
   "outputs": [
    {
     "name": "stdout",
     "output_type": "stream",
     "text": [
      "[['id', 'title', 'url', 'num_points', 'num_comments', 'author', 'created_at']]\n"
     ]
    }
   ],
   "source": [
    "headers = hn[:1]\n",
    "print(headers)"
   ]
  },
  {
   "cell_type": "markdown",
   "id": "2ec1b505-0fb4-4b3f-aef5-8043ec0550d2",
   "metadata": {},
   "source": [
    "Con el encabezado podemos sacar conclusiones sobre la información que obtenemos de cada columna del dataset.\n",
    "\n",
    "| Columna del encabezado       | Descripción           |\n",
    "|--------------|-----------------------|\n",
    "| id| Identificador único|\n",
    "| title | Título de la publicación|\n",
    "| url| URL a la que se vincula la publicación |\n",
    "| num_points| Relación entre la cantidad de votos positivos menos los votos negativos.  |\n",
    "| num_comments| Número de comentarios en la publicación |\n",
    "| author|Usuario que publicó la publicación|\n",
    "| created_at|Fecha y hora de la publicación|\n",
    "\n"
   ]
  },
  {
   "cell_type": "code",
   "execution_count": 7,
   "id": "4ceab449-bd37-47eb-9957-220b0996f915",
   "metadata": {},
   "outputs": [
    {
     "name": "stdout",
     "output_type": "stream",
     "text": [
      "[['12224879', 'Interactive Dynamic Video', 'http://www.interactivedynamicvideo.com/', '386', '52', 'ne0phyte', '8/4/2016 11:52'], ['10975351', 'How to Use Open Source and Shut the Fuck Up at the Same Time', 'http://hueniverse.com/2016/01/26/how-to-use-open-source-and-shut-the-fuck-up-at-the-same-time/', '39', '10', 'josep2', '1/26/2016 19:30'], ['11964716', \"Florida DJs May Face Felony for April Fools' Water Joke\", 'http://www.thewire.com/entertainment/2013/04/florida-djs-april-fools-water-joke/63798/', '2', '1', 'vezycash', '6/23/2016 22:20'], ['11919867', 'Technology ventures: From Idea to Enterprise', 'https://www.amazon.com/Technology-Ventures-Enterprise-Thomas-Byers/dp/0073523429', '3', '1', 'hswarna', '6/17/2016 0:01'], ['10301696', 'Note by Note: The Making of Steinway L1037 (2007)', 'http://www.nytimes.com/2007/11/07/movies/07stein.html?_r=0', '8', '2', 'walterbell', '9/30/2015 4:12']]\n"
     ]
    }
   ],
   "source": [
    "hn = hn[1:]\n",
    "print(hn[:5])"
   ]
  },
  {
   "cell_type": "markdown",
   "id": "5360f1e5-a3ad-4d4c-b05a-28bea41bac6e",
   "metadata": {},
   "source": [
    "# Extracción de publicaciones de Ask HN y Show HN y media de comentarios\n",
    "\n",
    "Empezamos identificando las publicaciones que empiecen por **Ask HN** y **Show HN**. Separaremos estos datos en dos listas diferentes para facilitar el análisis."
   ]
  },
  {
   "cell_type": "code",
   "execution_count": 9,
   "id": "b7eda323-0e9a-455e-a559-dda438664609",
   "metadata": {},
   "outputs": [
    {
     "name": "stdout",
     "output_type": "stream",
     "text": [
      "Cantidad de publicaciones con Ask HN: 1744\n",
      "Cantidad de publicaciones con Show HN: 1162\n",
      "Otras publicaciones: 17194\n"
     ]
    }
   ],
   "source": [
    "ask_posts = []\n",
    "show_posts = []\n",
    "other_posts = []\n",
    "\n",
    "for row in hn:\n",
    "    title = row[1]\n",
    "    if title.lower().startswith('ask hn'):\n",
    "        ask_posts.append(row)\n",
    "    elif title.lower().startswith('show hn'):\n",
    "        show_posts.append(row)\n",
    "    else:\n",
    "        other_posts.append(row)\n",
    "print('Cantidad de publicaciones con Ask HN: ' + str(len(ask_posts)))\n",
    "print('Cantidad de publicaciones con Show HN: ' + str(len(show_posts)))\n",
    "print('Otras publicaciones: ' + str(len(other_posts)))"
   ]
  },
  {
   "cell_type": "code",
   "execution_count": 10,
   "id": "7fc035fc-7b0f-4d49-a193-9a031d203da2",
   "metadata": {},
   "outputs": [
    {
     "name": "stdout",
     "output_type": "stream",
     "text": [
      "[['12296411', 'Ask HN: How to improve my personal website?', '', '2', '6', 'ahmedbaracat', '8/16/2016 9:55'], ['10610020', 'Ask HN: Am I the only one outraged by Twitter shutting down share counts?', '', '28', '29', 'tkfx', '11/22/2015 13:43'], ['11610310', 'Ask HN: Aby recent changes to CSS that broke mobile?', '', '1', '1', 'polskibus', '5/2/2016 10:14'], ['12210105', 'Ask HN: Looking for Employee #3 How do I do it?', '', '1', '3', 'sph130', '8/2/2016 14:20'], ['10394168', 'Ask HN: Someone offered to buy my browser extension from me. What now?', '', '28', '17', 'roykolak', '10/15/2015 16:38']]\n"
     ]
    }
   ],
   "source": [
    "print(ask_posts[:5])"
   ]
  },
  {
   "cell_type": "markdown",
   "id": "4a1243cc-6f15-49be-bd67-2b621eb17c43",
   "metadata": {},
   "source": [
    "Ahora calcularemos la media de comentarios que recibe cada tipo de publicación"
   ]
  },
  {
   "cell_type": "code",
   "execution_count": 12,
   "id": "22a71aaf-ebd8-4299-a0e4-333e89371e49",
   "metadata": {},
   "outputs": [
    {
     "name": "stdout",
     "output_type": "stream",
     "text": [
      "14.038417431192661\n"
     ]
    }
   ],
   "source": [
    "total_ask_comments = 0\n",
    "\n",
    "for row in ask_posts:\n",
    "    comments = row[4]\n",
    "    total_ask_comments += int(comments)\n",
    "avg_ask_comments = total_ask_comments/len(ask_posts)\n",
    "print(avg_ask_comments)"
   ]
  },
  {
   "cell_type": "code",
   "execution_count": 13,
   "id": "b84c3896-c2c1-4da5-b748-27fb9617d14c",
   "metadata": {},
   "outputs": [
    {
     "name": "stdout",
     "output_type": "stream",
     "text": [
      "10.31669535283993\n"
     ]
    }
   ],
   "source": [
    "total_show_comments = 0\n",
    "\n",
    "for row in show_posts:\n",
    "    comments = row[4]\n",
    "    total_show_comments += int(comments)\n",
    "avg_show_comments = total_show_comments/len(show_posts)\n",
    "print(avg_show_comments)"
   ]
  },
  {
   "cell_type": "markdown",
   "id": "85f0a6df-f661-4f24-b4a9-66f01ea1d6d2",
   "metadata": {},
   "source": [
    "Vemos como las publicaciones de Ask HN reciben una media de 14 comentarios, mientras que las de Show HN reciben una media de 10 publicaciones.\n",
    "\n",
    "Hasta aquí ya contestamos a nuestra primera pregunta: **¿Cuál de los dos tipos de publicaciones rebibe en promedio más comentarios?** Se trata de las publicaciones de Ask HN. \n",
    "\n",
    "Por lo tanto centraremos nuestro análisis en las publicaciones de Ask HN, ya que tienen más probabilidades de recibir comentarios, y trataremos de contestar a segunda pregunta: **¿De media, reciben más comentarios las publicaciones creadas en un momento determinado?**"
   ]
  },
  {
   "cell_type": "markdown",
   "id": "53a1b1f7-8c06-4a7e-bcc8-ec5e13f77c9c",
   "metadata": {},
   "source": [
    "# Encontrar la cantidad de publicaciones y de comentarios de Ask HN por hora de creación.\n",
    "\n",
    "Para realizar este análisis, seguiremos los siguientes pasos:\n",
    "\n",
    "1. Calcular la cantidad de publicaciones de preguntas creadas en cada hora del día, junto con la cantidad de comentarios recibidos.\n",
    "2. Calcular la media de comentarios que reciben las publicaciones por hora de creación.\n",
    "\n",
    "En primer lugar, calcularemos la cantidad de publicaciones de Ask HN creadas durante cada hora del día, junto con la cantidad de comentarios que recibieron esas publicaciones."
   ]
  },
  {
   "cell_type": "code",
   "execution_count": 16,
   "id": "314c636c-9ad9-4f21-98ca-707afa6f9863",
   "metadata": {},
   "outputs": [
    {
     "data": {
      "text/plain": [
       "{'09': 251,\n",
       " '13': 1253,\n",
       " '10': 793,\n",
       " '14': 1416,\n",
       " '16': 1814,\n",
       " '23': 543,\n",
       " '12': 687,\n",
       " '17': 1146,\n",
       " '15': 4477,\n",
       " '21': 1745,\n",
       " '20': 1722,\n",
       " '02': 1381,\n",
       " '18': 1439,\n",
       " '03': 421,\n",
       " '05': 464,\n",
       " '19': 1188,\n",
       " '01': 683,\n",
       " '22': 479,\n",
       " '08': 492,\n",
       " '04': 337,\n",
       " '00': 447,\n",
       " '06': 397,\n",
       " '07': 267,\n",
       " '11': 641}"
      ]
     },
     "execution_count": 16,
     "metadata": {},
     "output_type": "execute_result"
    }
   ],
   "source": [
    "import datetime as dt\n",
    "\n",
    "result_list = []\n",
    "\n",
    "for row in ask_posts:\n",
    "    result_list.append([row[6],int(row[4])])\n",
    "\n",
    "counts_by_hour = {}\n",
    "comments_by_hour = {}\n",
    "\n",
    "#Extraemos la hora de nuestro dataset\n",
    "for i in result_list:\n",
    "    comment = i[1]\n",
    "    date = i[0]\n",
    "    time = dt.datetime.strptime(date,\"%m/%d/%Y %H:%M\")\n",
    "    hour = time.strftime(\"%H\")\n",
    "    if hour in counts_by_hour:\n",
    "        counts_by_hour[hour] += 1\n",
    "        comments_by_hour[hour] += comment\n",
    "    else:\n",
    "        counts_by_hour[hour] = 1\n",
    "        comments_by_hour[hour] = comment\n",
    "        \n",
    "comments_by_hour"
   ]
  },
  {
   "cell_type": "markdown",
   "id": "88b427ad-1c9b-4489-b972-c6c535ef164c",
   "metadata": {},
   "source": [
    "# Cálculo de la media de comentarios en las publicaciones de Ask HN por hora."
   ]
  },
  {
   "cell_type": "code",
   "execution_count": 18,
   "id": "610d226c-0a56-4a81-b947-654f498aef43",
   "metadata": {},
   "outputs": [
    {
     "data": {
      "text/plain": [
       "[['09', 5.58],\n",
       " ['13', 14.74],\n",
       " ['10', 13.44],\n",
       " ['14', 13.23],\n",
       " ['16', 16.8],\n",
       " ['23', 7.99],\n",
       " ['12', 9.41],\n",
       " ['17', 11.46],\n",
       " ['15', 38.59],\n",
       " ['21', 16.01],\n",
       " ['20', 21.52],\n",
       " ['02', 23.81],\n",
       " ['18', 13.2],\n",
       " ['03', 7.8],\n",
       " ['05', 10.09],\n",
       " ['19', 10.8],\n",
       " ['01', 11.38],\n",
       " ['22', 6.75],\n",
       " ['08', 10.25],\n",
       " ['04', 7.17],\n",
       " ['00', 8.13],\n",
       " ['06', 9.02],\n",
       " ['07', 7.85],\n",
       " ['11', 11.05]]"
      ]
     },
     "execution_count": 18,
     "metadata": {},
     "output_type": "execute_result"
    }
   ],
   "source": [
    "avg_by_hour = []\n",
    "\n",
    "for post in comments_by_hour:\n",
    "    avg_by_hour.append([post, round(comments_by_hour[post] / counts_by_hour[post], 2)])\n",
    "\n",
    "avg_by_hour"
   ]
  },
  {
   "cell_type": "markdown",
   "id": "b2e6e167-2d6c-41d0-ae04-c3a037746ce6",
   "metadata": {},
   "source": [
    "Aunque ya tenemos los resultados que necesitamos, este formato dificulta la identificación de las horas con los valores más altos. Terminaremos ordenando la lista de listas e imprimiendo los cinco valores más altos en un formato más fácil de leer."
   ]
  },
  {
   "cell_type": "code",
   "execution_count": 20,
   "id": "ff1f04ce-ea09-4363-a614-b938c22d2695",
   "metadata": {},
   "outputs": [
    {
     "name": "stdout",
     "output_type": "stream",
     "text": [
      "[[5.58, '09'], [14.74, '13'], [13.44, '10'], [13.23, '14'], [16.8, '16'], [7.99, '23'], [9.41, '12'], [11.46, '17'], [38.59, '15'], [16.01, '21'], [21.52, '20'], [23.81, '02'], [13.2, '18'], [7.8, '03'], [10.09, '05'], [10.8, '19'], [11.38, '01'], [6.75, '22'], [10.25, '08'], [7.17, '04'], [8.13, '00'], [9.02, '06'], [7.85, '07'], [11.05, '11']]\n"
     ]
    },
    {
     "data": {
      "text/plain": [
       "[[38.59, '15'],\n",
       " [23.81, '02'],\n",
       " [21.52, '20'],\n",
       " [16.8, '16'],\n",
       " [16.01, '21'],\n",
       " [14.74, '13'],\n",
       " [13.44, '10'],\n",
       " [13.23, '14'],\n",
       " [13.2, '18'],\n",
       " [11.46, '17'],\n",
       " [11.38, '01'],\n",
       " [11.05, '11'],\n",
       " [10.8, '19'],\n",
       " [10.25, '08'],\n",
       " [10.09, '05'],\n",
       " [9.41, '12'],\n",
       " [9.02, '06'],\n",
       " [8.13, '00'],\n",
       " [7.99, '23'],\n",
       " [7.85, '07'],\n",
       " [7.8, '03'],\n",
       " [7.17, '04'],\n",
       " [6.75, '22'],\n",
       " [5.58, '09']]"
      ]
     },
     "execution_count": 20,
     "metadata": {},
     "output_type": "execute_result"
    }
   ],
   "source": [
    "swap_avg_by_hour = []\n",
    "\n",
    "for n in avg_by_hour:\n",
    "    swap_avg_by_hour.append([n[1], n[0]])\n",
    "    \n",
    "print(swap_avg_by_hour)\n",
    "\n",
    "sorted_swap = sorted(swap_avg_by_hour, reverse=True)\n",
    "\n",
    "sorted_swap\n",
    "        "
   ]
  },
  {
   "cell_type": "code",
   "execution_count": 21,
   "id": "716b9f22-dc18-4bcc-9bb5-46fa80001a24",
   "metadata": {},
   "outputs": [
    {
     "name": "stdout",
     "output_type": "stream",
     "text": [
      "Top 5 mejores horas para recibir comentarios de 'Ask HN'\n",
      "\n",
      "A las 15:00 hay un promedio de 38.59 comentarios por publicación\n",
      "A las 02:00 hay un promedio de 23.81 comentarios por publicación\n",
      "A las 20:00 hay un promedio de 21.52 comentarios por publicación\n",
      "A las 16:00 hay un promedio de 16.80 comentarios por publicación\n",
      "A las 21:00 hay un promedio de 16.01 comentarios por publicación\n",
      "\n",
      "\n",
      "Top 5 peores horas para recibir comentarios de 'Ask HN'\n",
      "\n",
      "A las 07:00 hay un promedio de 7.85 comentarios por publicación\n",
      "A las 03:00 hay un promedio de 7.80 comentarios por publicación\n",
      "A las 04:00 hay un promedio de 7.17 comentarios por publicación\n",
      "A las 22:00 hay un promedio de 6.75 comentarios por publicación\n",
      "A las 09:00 hay un promedio de 5.58 comentarios por publicación\n"
     ]
    }
   ],
   "source": [
    "# Ordenamos los valores e imprimimos las 5 horas con los comentarios promedio más altos.\n",
    "\n",
    "print(\"Top 5 mejores horas para recibir comentarios de 'Ask HN'\\n\")\n",
    "for avg, hr in sorted_swap[:5]:\n",
    "    print(\n",
    "        f\"A las {dt.datetime.strptime(hr, '%H').strftime('%H:%M')} hay un promedio de {avg:.2f} comentarios por publicación\"\n",
    "    )\n",
    "\n",
    "print(\"\\n\")\n",
    "print(\"Top 5 peores horas para recibir comentarios de 'Ask HN'\\n\")\n",
    "for avg, hr in sorted_swap[-5:]:\n",
    "    print(\n",
    "        f\"A las {dt.datetime.strptime(hr, '%H').strftime('%H:%M')} hay un promedio de {avg:.2f} comentarios por publicación\"\n",
    "    )"
   ]
  },
  {
   "cell_type": "markdown",
   "id": "70ef42ae-d4ad-432d-b065-80eaf09bad9b",
   "metadata": {},
   "source": [
    "Vemos que la hora con más comentarios es a las 15:00. Y con eso podemos dar respuesta a nuestra segunda pregunta: **¿De media, reciben más comentarios las publicaciones creadas en un momento determinado?**\n",
    "\n",
    "Efectivamente podemos comprobar que hay determinadas horas en las que la media de comentarios sube considerablemente."
   ]
  },
  {
   "cell_type": "code",
   "execution_count": null,
   "id": "aa880014-d540-4e82-bcaa-c3ddc9cef775",
   "metadata": {},
   "outputs": [],
   "source": []
  }
 ],
 "metadata": {
  "kernelspec": {
   "display_name": "Python 3 (ipykernel)",
   "language": "python",
   "name": "python3"
  },
  "language_info": {
   "codemirror_mode": {
    "name": "ipython",
    "version": 3
   },
   "file_extension": ".py",
   "mimetype": "text/x-python",
   "name": "python",
   "nbconvert_exporter": "python",
   "pygments_lexer": "ipython3",
   "version": "3.12.4"
  }
 },
 "nbformat": 4,
 "nbformat_minor": 5
}
